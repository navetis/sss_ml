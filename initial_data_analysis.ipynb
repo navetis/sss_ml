{
 "cells": [
  {
   "cell_type": "markdown",
   "source": [
    "# Initial Data Analysis\n",
    "## General\n",
    "### Topic\n",
    "\n",
    "The objective of this research is to analyze performance metrics of different ML algorithms in the field of heart disease prediction using limited sample sizes and how they are influenced by varying training and validation strategies.\n",
    "\n",
    "### Questions\n",
    "\n",
    "1. How will the training and validation strategy of an ML algorithm impact the performance metrics?\n",
    "\n",
    "    **Methods:** Randomly select stratified samples for varying sizes from the total data, determining the performance metrics and to average them afterwards. This process should be varied as follows:\n",
    "    - Differ concrete algorithm: SVM, Bayes, KNN, Random Forest, Decision Tree, Logistic Regression.\n",
    "    - Change number of selected features and feature selection methods: RFE and Sequential Feature Selection (eventually PCA, UMAP...).\n",
    "    - Selecting Nested CV, K-Fold CV, Mixed CV or Train/Test Split for training/validation (feature selection, parameter tuning).\n",
    "    - Changing the train-test-ratio in Train/Test Split, the number of folds in parameter selection in all validation methods and changing the number of folds in validation and feature selection in all methods apart from Train/Test Split.\n",
    "2. How do performance metrics compare to one another when sample size varies?\n",
    "\n",
    "    **Methods:** Change sample size and performance metric, do the training and in the end validate a given ML model on the test set. Performance metrics chosen: 'accuracy', 'balanced_accuracy', 'top_k_accuracy', 'average_precision', 'neg_brier_score' (more details at [Metrics and scoring](https://scikit-learn.org/stable/modules/model_evaluation.html))\n",
    "\n",
    "3. How do subgroup structures impact performance metrics?\n",
    "\n",
    "    **Methods:** Reduce samples to a certain group. Groups chosen: sex (male or female), age groups (young: age under 50, middle: 50 =< age < 65, elder: age >= 65). A combination of groups is also considered."
   ],
   "metadata": {
    "collapsed": false,
    "pycharm": {
     "name": "#%% md\n"
    }
   }
  },
  {
   "cell_type": "markdown",
   "source": [
    "## Dataset\n",
    "\n",
    "### Source\n",
    "\n",
    "I am planning to use the [Heart Disease Data Set](https://archive.ics.uci.edu/ml/datasets/Heart+Disease) by the UCI Center for Machine Learning and Intelligent Systems. It consists of four single datasets from the 1980s that have been published by the\n",
    "1.\tHungarian Institute of Cardiology. Budapest: Andras Janosi, M.D.\n",
    "2.\tUniversity Hospital, Zurich, Switzerland: William Steinbrunn, M.D.\n",
    "3.\tUniversity Hospital, Basel, Switzerland: Matthias Pfisterer, M.D.\n",
    "4.\tV.A. Medical Center, Long Beach and Cleveland Clinic Foundation: Robert Detrano, M.D., Ph.D.\n",
    "\n",
    "In the following I will mainly analyse the combined dataset, albeit commenting on the structure of the single datasets whenever relevant.\n",
    "\n",
    "### Loading the Dataset\n",
    "\n",
    "Before we describe our data, we need to load the data."
   ],
   "metadata": {
    "collapsed": false,
    "pycharm": {
     "name": "#%% md\n"
    }
   }
  },
  {
   "cell_type": "code",
   "execution_count": null,
   "outputs": [],
   "source": [
    "import os\n",
    "from math import ceil\n",
    "import numpy as np\n",
    "import pandas as pd\n",
    "import jupyter\n",
    "import glob\n",
    "import seaborn as sns\n",
    "import matplotlib.pyplot as plt\n",
    "from sklearn.ensemble import RandomForestClassifier\n",
    "from sklearn.feature_selection import RFE, SequentialFeatureSelector\n",
    "from sklearn.impute import KNNImputer\n",
    "from sklearn.linear_model import LogisticRegression\n",
    "from sklearn.metrics import accuracy_score, balanced_accuracy_score, top_k_accuracy_score, average_precision_score, \\\n",
    "    brier_score_loss\n",
    "from sklearn.model_selection import train_test_split, GridSearchCV, StratifiedKFold, cross_validate\n",
    "from sklearn.naive_bayes import GaussianNB\n",
    "from sklearn.neighbors import KNeighborsClassifier\n",
    "from sklearn.svm import SVC\n",
    "from statistics import mean, median\n",
    "from scipy import stats\n",
    "from matplotlib.colors import LogNorm"
   ],
   "metadata": {
    "collapsed": false,
    "pycharm": {
     "name": "#%%\n"
    }
   }
  },
  {
   "cell_type": "code",
   "execution_count": 149,
   "outputs": [],
   "source": [
    "column_names = ['age', 'sex', 'cp', 'trestbps', 'chol', 'fbs', 'restecg', 'thalach', 'exang', 'oldpeak', 'slope',\n",
    "                    'ca', 'thal', 'target']\n",
    "data_path = os.path.join(os.getcwd(), \"data/\")\n",
    "\n",
    "# cleveland -- 0, hungarian -- 1, switzerland -- 2, va -- 3\n",
    "cleveland_data = pd.read_csv(os.path.join(data_path, \"processed.cleveland.data\"), names=column_names)\n",
    "cleveland_data['location'] = 0\n",
    "\n",
    "hungarian_data = pd.read_csv(os.path.join(data_path, \"processed.hungarian.data\"), names=column_names)\n",
    "hungarian_data['location'] = 1\n",
    "\n",
    "switzerland_data = pd.read_csv(os.path.join(data_path, \"processed.switzerland.data\"), names=column_names)\n",
    "switzerland_data['location'] = 2\n",
    "\n",
    "va_data = pd.read_csv(os.path.join(data_path, \"processed.va.data\"), names=column_names)\n",
    "va_data['location'] = 3\n",
    "\n",
    "all_data = pd.concat([cleveland_data, hungarian_data, switzerland_data, va_data], axis=0, ignore_index=True)\n",
    "all_data = all_data[['age', 'sex', 'cp', 'trestbps', 'chol', 'fbs', 'restecg', 'thalach', 'exang', 'oldpeak', 'slope',\n",
    "                    'ca', 'thal', 'location', 'target']]"
   ],
   "metadata": {
    "collapsed": false,
    "pycharm": {
     "name": "#%%\n"
    }
   }
  },
  {
   "cell_type": "code",
   "execution_count": 150,
   "outputs": [],
   "source": [
    "# this is some preprocessing\n",
    "all_data['thal'].replace({'3.0': '0.0', '6.0': '1.0', '7.0': '2.0'}, inplace=True)\n",
    "# In the raw data the '?' symbol is used for missing data. Let us replace those values by np.NaN.\n",
    "all_data.replace('?', np.NaN, inplace= True)\n",
    "all_data = all_data.astype({'age': int, 'sex': int, 'cp': int, 'trestbps': float, 'chol': float, 'fbs': float, 'restecg': float, 'thalach': float, 'exang': float, 'oldpeak': float, 'slope': float, 'ca': float, 'thal': float, 'location': int, 'target': int})"
   ],
   "metadata": {
    "collapsed": false,
    "pycharm": {
     "name": "#%%\n"
    }
   }
  },
  {
   "cell_type": "markdown",
   "source": [
    "### Overview\n",
    "\n",
    "Let us quickly inspect the data."
   ],
   "metadata": {
    "collapsed": false,
    "pycharm": {
     "name": "#%% md\n"
    }
   }
  },
  {
   "cell_type": "code",
   "execution_count": 151,
   "outputs": [
    {
     "data": {
      "text/plain": "     age  sex  cp  trestbps   chol  fbs  restecg  thalach  exang  oldpeak  \\\n0     63    1   1     145.0  233.0  1.0      2.0    150.0    0.0      2.3   \n1     67    1   4     160.0  286.0  0.0      2.0    108.0    1.0      1.5   \n2     67    1   4     120.0  229.0  0.0      2.0    129.0    1.0      2.6   \n3     37    1   3     130.0  250.0  0.0      0.0    187.0    0.0      3.5   \n4     41    0   2     130.0  204.0  0.0      2.0    172.0    0.0      1.4   \n..   ...  ...  ..       ...    ...  ...      ...      ...    ...      ...   \n915   54    0   4     127.0  333.0  1.0      1.0    154.0    0.0      0.0   \n916   62    1   1       NaN  139.0  0.0      1.0      NaN    NaN      NaN   \n917   55    1   4     122.0  223.0  1.0      1.0    100.0    0.0      0.0   \n918   58    1   4       NaN  385.0  1.0      2.0      NaN    NaN      NaN   \n919   62    1   2     120.0  254.0  0.0      2.0     93.0    1.0      0.0   \n\n     slope   ca  thal  location  target  \n0      3.0  0.0   1.0         0       0  \n1      2.0  3.0   0.0         0       2  \n2      2.0  2.0   2.0         0       1  \n3      3.0  0.0   0.0         0       0  \n4      1.0  0.0   0.0         0       0  \n..     ...  ...   ...       ...     ...  \n915    NaN  NaN   NaN         3       1  \n916    NaN  NaN   NaN         3       0  \n917    NaN  NaN   6.0         3       2  \n918    NaN  NaN   NaN         3       0  \n919    NaN  NaN   NaN         3       1  \n\n[920 rows x 15 columns]",
      "text/html": "<div>\n<style scoped>\n    .dataframe tbody tr th:only-of-type {\n        vertical-align: middle;\n    }\n\n    .dataframe tbody tr th {\n        vertical-align: top;\n    }\n\n    .dataframe thead th {\n        text-align: right;\n    }\n</style>\n<table border=\"1\" class=\"dataframe\">\n  <thead>\n    <tr style=\"text-align: right;\">\n      <th></th>\n      <th>age</th>\n      <th>sex</th>\n      <th>cp</th>\n      <th>trestbps</th>\n      <th>chol</th>\n      <th>fbs</th>\n      <th>restecg</th>\n      <th>thalach</th>\n      <th>exang</th>\n      <th>oldpeak</th>\n      <th>slope</th>\n      <th>ca</th>\n      <th>thal</th>\n      <th>location</th>\n      <th>target</th>\n    </tr>\n  </thead>\n  <tbody>\n    <tr>\n      <th>0</th>\n      <td>63</td>\n      <td>1</td>\n      <td>1</td>\n      <td>145.0</td>\n      <td>233.0</td>\n      <td>1.0</td>\n      <td>2.0</td>\n      <td>150.0</td>\n      <td>0.0</td>\n      <td>2.3</td>\n      <td>3.0</td>\n      <td>0.0</td>\n      <td>1.0</td>\n      <td>0</td>\n      <td>0</td>\n    </tr>\n    <tr>\n      <th>1</th>\n      <td>67</td>\n      <td>1</td>\n      <td>4</td>\n      <td>160.0</td>\n      <td>286.0</td>\n      <td>0.0</td>\n      <td>2.0</td>\n      <td>108.0</td>\n      <td>1.0</td>\n      <td>1.5</td>\n      <td>2.0</td>\n      <td>3.0</td>\n      <td>0.0</td>\n      <td>0</td>\n      <td>2</td>\n    </tr>\n    <tr>\n      <th>2</th>\n      <td>67</td>\n      <td>1</td>\n      <td>4</td>\n      <td>120.0</td>\n      <td>229.0</td>\n      <td>0.0</td>\n      <td>2.0</td>\n      <td>129.0</td>\n      <td>1.0</td>\n      <td>2.6</td>\n      <td>2.0</td>\n      <td>2.0</td>\n      <td>2.0</td>\n      <td>0</td>\n      <td>1</td>\n    </tr>\n    <tr>\n      <th>3</th>\n      <td>37</td>\n      <td>1</td>\n      <td>3</td>\n      <td>130.0</td>\n      <td>250.0</td>\n      <td>0.0</td>\n      <td>0.0</td>\n      <td>187.0</td>\n      <td>0.0</td>\n      <td>3.5</td>\n      <td>3.0</td>\n      <td>0.0</td>\n      <td>0.0</td>\n      <td>0</td>\n      <td>0</td>\n    </tr>\n    <tr>\n      <th>4</th>\n      <td>41</td>\n      <td>0</td>\n      <td>2</td>\n      <td>130.0</td>\n      <td>204.0</td>\n      <td>0.0</td>\n      <td>2.0</td>\n      <td>172.0</td>\n      <td>0.0</td>\n      <td>1.4</td>\n      <td>1.0</td>\n      <td>0.0</td>\n      <td>0.0</td>\n      <td>0</td>\n      <td>0</td>\n    </tr>\n    <tr>\n      <th>...</th>\n      <td>...</td>\n      <td>...</td>\n      <td>...</td>\n      <td>...</td>\n      <td>...</td>\n      <td>...</td>\n      <td>...</td>\n      <td>...</td>\n      <td>...</td>\n      <td>...</td>\n      <td>...</td>\n      <td>...</td>\n      <td>...</td>\n      <td>...</td>\n      <td>...</td>\n    </tr>\n    <tr>\n      <th>915</th>\n      <td>54</td>\n      <td>0</td>\n      <td>4</td>\n      <td>127.0</td>\n      <td>333.0</td>\n      <td>1.0</td>\n      <td>1.0</td>\n      <td>154.0</td>\n      <td>0.0</td>\n      <td>0.0</td>\n      <td>NaN</td>\n      <td>NaN</td>\n      <td>NaN</td>\n      <td>3</td>\n      <td>1</td>\n    </tr>\n    <tr>\n      <th>916</th>\n      <td>62</td>\n      <td>1</td>\n      <td>1</td>\n      <td>NaN</td>\n      <td>139.0</td>\n      <td>0.0</td>\n      <td>1.0</td>\n      <td>NaN</td>\n      <td>NaN</td>\n      <td>NaN</td>\n      <td>NaN</td>\n      <td>NaN</td>\n      <td>NaN</td>\n      <td>3</td>\n      <td>0</td>\n    </tr>\n    <tr>\n      <th>917</th>\n      <td>55</td>\n      <td>1</td>\n      <td>4</td>\n      <td>122.0</td>\n      <td>223.0</td>\n      <td>1.0</td>\n      <td>1.0</td>\n      <td>100.0</td>\n      <td>0.0</td>\n      <td>0.0</td>\n      <td>NaN</td>\n      <td>NaN</td>\n      <td>6.0</td>\n      <td>3</td>\n      <td>2</td>\n    </tr>\n    <tr>\n      <th>918</th>\n      <td>58</td>\n      <td>1</td>\n      <td>4</td>\n      <td>NaN</td>\n      <td>385.0</td>\n      <td>1.0</td>\n      <td>2.0</td>\n      <td>NaN</td>\n      <td>NaN</td>\n      <td>NaN</td>\n      <td>NaN</td>\n      <td>NaN</td>\n      <td>NaN</td>\n      <td>3</td>\n      <td>0</td>\n    </tr>\n    <tr>\n      <th>919</th>\n      <td>62</td>\n      <td>1</td>\n      <td>2</td>\n      <td>120.0</td>\n      <td>254.0</td>\n      <td>0.0</td>\n      <td>2.0</td>\n      <td>93.0</td>\n      <td>1.0</td>\n      <td>0.0</td>\n      <td>NaN</td>\n      <td>NaN</td>\n      <td>NaN</td>\n      <td>3</td>\n      <td>1</td>\n    </tr>\n  </tbody>\n</table>\n<p>920 rows × 15 columns</p>\n</div>"
     },
     "execution_count": 151,
     "metadata": {},
     "output_type": "execute_result"
    }
   ],
   "source": [
    "all_data"
   ],
   "metadata": {
    "collapsed": false,
    "pycharm": {
     "name": "#%%\n"
    }
   }
  },
  {
   "cell_type": "markdown",
   "source": [
    "#### Columns\n",
    "\n",
    "The datasets share the same 14 columns:\n",
    "\n",
    "1. age: age in years\n",
    "2. sex: sex (1 = male; 0 = female)\n",
    "3. cp: chest pain type\n",
    "        -- Value 1: typical angina\n",
    "        -- Value 2: atypical angina\n",
    "        -- Value 3: non-anginal pain\n",
    "        -- Value 4: asymptomatic\n",
    "4. trestbps: resting blood pressure (in mm Hg on admission to the hospital)\n",
    "5. chol: serum cholestoral in mg/dl\n",
    "6. fbs: fasting blood sugar > 120 mg/dl  (1 = true; 0 = false)\n",
    "7. restecg: resting electrocardiographic results\n",
    "        -- Value 0: normal\n",
    "        -- Value 1: having ST-T wave abnormality (T wave inversions and/or ST\n",
    "                    elevation or depression of > 0.05 mV)\n",
    "        -- Value 2: showing probable or definite left ventricular hypertrophy\n",
    "                    by Estes' criteria\n",
    "8. thalach: maximum heart rate achieved\n",
    "9. exang: exercise induced angina (1 = yes; 0 = no)\n",
    "10. oldpeak: ST depression induced by exercise relative to rest\n",
    "11. slope: the slope of the peak exercise ST segment\n",
    "        -- Value 1: upsloping\n",
    "        -- Value 2: flat\n",
    "        -- Value 3: downsloping\n",
    "12. ca: number of major vessels (0-3) colored by flourosopy\n",
    "13. thal: A blood disorder called thalassemia (0 = normal; 1 = fixed defect; 2 = reversable defect)\n",
    "14. target: diagnosis of heart disease (angiographic disease status)\n",
    "        -- Value 0: < 50% diameter narrowing\n",
    "        -- Value 1, 2, 3, 4: > 50% diameter narrowing\n",
    "15. location: location of origin (cleveland = 0, hungarian = 1, switzerland = 2, va = 3)\n",
    "\n",
    "Only 'chol', 'thalach' and 'oldpeak' are continuous, whereas the other features are multiclass/binary. 'Thal' was adjusted from values in (3,6,7) to (0,1,2).\n",
    "\n",
    "#### Samples\n",
    "\n",
    "In total our data set consists of 920 samples. The most data comes from the cleveland and hungarian data set."
   ],
   "metadata": {
    "collapsed": false,
    "pycharm": {
     "name": "#%% md\n"
    }
   }
  },
  {
   "cell_type": "code",
   "execution_count": 115,
   "outputs": [
    {
     "data": {
      "text/plain": "location\n0    303\n1    294\n2    123\n3    200\ndtype: int64"
     },
     "execution_count": 115,
     "metadata": {},
     "output_type": "execute_result"
    }
   ],
   "source": [
    "all_data.groupby(['location']).size()"
   ],
   "metadata": {
    "collapsed": false,
    "pycharm": {
     "name": "#%%\n"
    }
   }
  },
  {
   "cell_type": "markdown",
   "source": [
    "### Missing values\n",
    "Let us check how many columns are affected by missing values."
   ],
   "metadata": {
    "collapsed": false,
    "pycharm": {
     "name": "#%% md\n"
    }
   }
  },
  {
   "cell_type": "code",
   "execution_count": 153,
   "outputs": [
    {
     "data": {
      "text/plain": "age          0.000000\nsex          0.000000\ncp           0.000000\ntrestbps     6.413043\nchol         3.260870\nfbs          9.782609\nrestecg      0.217391\nthalach      5.978261\nexang        5.978261\noldpeak      6.739130\nslope       33.586957\nca          66.413043\nthal        52.826087\nlocation     0.000000\ntarget       0.000000\ndtype: float64"
     },
     "execution_count": 153,
     "metadata": {},
     "output_type": "execute_result"
    }
   ],
   "source": [
    "all_data.isna().sum() / len(all_data) * 100"
   ],
   "metadata": {
    "collapsed": false,
    "pycharm": {
     "name": "#%%\n"
    }
   }
  },
  {
   "cell_type": "markdown",
   "source": [
    "One can see that especially 'ca' and 'thal' have many missing values with an absence rate of over 66% and 52% respectively. Let us check the different data sets individually."
   ],
   "metadata": {
    "collapsed": false,
    "pycharm": {
     "name": "#%% md\n"
    }
   }
  },
  {
   "cell_type": "code",
   "execution_count": 177,
   "outputs": [
    {
     "data": {
      "text/plain": "<Figure size 432x288 with 2 Axes>",
      "image/png": "[encoded data removed]"
     },
     "metadata": {
      "needs_background": "light"
     },
     "output_type": "display_data"
    }
   ],
   "source": [
    "# all_data[all_data['location'] == 0].isna().sum() / len(all_data[all_data['location'] == 1]) * 100\n",
    "missing = all_data.groupby('location').apply(lambda x: x.isna().sum() / len(x))\n",
    "\n",
    "sns.heatmap(data=missing)\n",
    "plt.show()"
   ],
   "metadata": {
    "collapsed": false,
    "pycharm": {
     "name": "#%%\n"
    }
   }
  },
  {
   "cell_type": "markdown",
   "source": [
    "One can easily see, that the datasets of hungary, switzerland and va contribute to a high absence of 'ca' and 'thal'. The hungarian data set and the one from va also have a high absence of the 'slope' feature, 64% and 51% respectively. The switzerland data set has a 60% absence of the 'fbs' feature.\n",
    "\n",
    "#### Solutions\n",
    "\n",
    "There are multiple options to deal with missing values. One is to remove all rows, which have a NaN value in any column. But this will only leave us with"
   ],
   "metadata": {
    "collapsed": false,
    "pycharm": {
     "name": "#%% md\n"
    }
   }
  },
  {
   "cell_type": "code",
   "execution_count": 179,
   "outputs": [
    {
     "data": {
      "text/plain": "     age  sex  cp  trestbps   chol  fbs  restecg  thalach  exang  oldpeak  \\\n0     63    1   1     145.0  233.0  1.0      2.0    150.0    0.0      2.3   \n1     67    1   4     160.0  286.0  0.0      2.0    108.0    1.0      1.5   \n2     67    1   4     120.0  229.0  0.0      2.0    129.0    1.0      2.6   \n3     37    1   3     130.0  250.0  0.0      0.0    187.0    0.0      3.5   \n4     41    0   2     130.0  204.0  0.0      2.0    172.0    0.0      1.4   \n..   ...  ...  ..       ...    ...  ...      ...      ...    ...      ...   \n299   68    1   4     144.0  193.0  1.0      0.0    141.0    0.0      3.4   \n300   57    1   4     130.0  131.0  0.0      0.0    115.0    1.0      1.2   \n301   57    0   2     130.0  236.0  0.0      2.0    174.0    0.0      0.0   \n508   47    1   4     150.0  226.0  0.0      0.0     98.0    1.0      1.5   \n748   56    1   4     120.0  100.0  0.0      0.0    120.0    1.0      1.5   \n\n     slope   ca  thal  location  target  \n0      3.0  0.0   1.0         0       0  \n1      2.0  3.0   0.0         0       2  \n2      2.0  2.0   2.0         0       1  \n3      3.0  0.0   0.0         0       0  \n4      1.0  0.0   0.0         0       0  \n..     ...  ...   ...       ...     ...  \n299    2.0  2.0   2.0         0       2  \n300    2.0  1.0   2.0         0       3  \n301    2.0  1.0   0.0         0       1  \n508    2.0  0.0   7.0         1       1  \n748    2.0  0.0   7.0         3       1  \n\n[299 rows x 15 columns]",
      "text/html": "<div>\n<style scoped>\n    .dataframe tbody tr th:only-of-type {\n        vertical-align: middle;\n    }\n\n    .dataframe tbody tr th {\n        vertical-align: top;\n    }\n\n    .dataframe thead th {\n        text-align: right;\n    }\n</style>\n<table border=\"1\" class=\"dataframe\">\n  <thead>\n    <tr style=\"text-align: right;\">\n      <th></th>\n      <th>age</th>\n      <th>sex</th>\n      <th>cp</th>\n      <th>trestbps</th>\n      <th>chol</th>\n      <th>fbs</th>\n      <th>restecg</th>\n      <th>thalach</th>\n      <th>exang</th>\n      <th>oldpeak</th>\n      <th>slope</th>\n      <th>ca</th>\n      <th>thal</th>\n      <th>location</th>\n      <th>target</th>\n    </tr>\n  </thead>\n  <tbody>\n    <tr>\n      <th>0</th>\n      <td>63</td>\n      <td>1</td>\n      <td>1</td>\n      <td>145.0</td>\n      <td>233.0</td>\n      <td>1.0</td>\n      <td>2.0</td>\n      <td>150.0</td>\n      <td>0.0</td>\n      <td>2.3</td>\n      <td>3.0</td>\n      <td>0.0</td>\n      <td>1.0</td>\n      <td>0</td>\n      <td>0</td>\n    </tr>\n    <tr>\n      <th>1</th>\n      <td>67</td>\n      <td>1</td>\n      <td>4</td>\n      <td>160.0</td>\n      <td>286.0</td>\n      <td>0.0</td>\n      <td>2.0</td>\n      <td>108.0</td>\n      <td>1.0</td>\n      <td>1.5</td>\n      <td>2.0</td>\n      <td>3.0</td>\n      <td>0.0</td>\n      <td>0</td>\n      <td>2</td>\n    </tr>\n    <tr>\n      <th>2</th>\n      <td>67</td>\n      <td>1</td>\n      <td>4</td>\n      <td>120.0</td>\n      <td>229.0</td>\n      <td>0.0</td>\n      <td>2.0</td>\n      <td>129.0</td>\n      <td>1.0</td>\n      <td>2.6</td>\n      <td>2.0</td>\n      <td>2.0</td>\n      <td>2.0</td>\n      <td>0</td>\n      <td>1</td>\n    </tr>\n    <tr>\n      <th>3</th>\n      <td>37</td>\n      <td>1</td>\n      <td>3</td>\n      <td>130.0</td>\n      <td>250.0</td>\n      <td>0.0</td>\n      <td>0.0</td>\n      <td>187.0</td>\n      <td>0.0</td>\n      <td>3.5</td>\n      <td>3.0</td>\n      <td>0.0</td>\n      <td>0.0</td>\n      <td>0</td>\n      <td>0</td>\n    </tr>\n    <tr>\n      <th>4</th>\n      <td>41</td>\n      <td>0</td>\n      <td>2</td>\n      <td>130.0</td>\n      <td>204.0</td>\n      <td>0.0</td>\n      <td>2.0</td>\n      <td>172.0</td>\n      <td>0.0</td>\n      <td>1.4</td>\n      <td>1.0</td>\n      <td>0.0</td>\n      <td>0.0</td>\n      <td>0</td>\n      <td>0</td>\n    </tr>\n    <tr>\n      <th>...</th>\n      <td>...</td>\n      <td>...</td>\n      <td>...</td>\n      <td>...</td>\n      <td>...</td>\n      <td>...</td>\n      <td>...</td>\n      <td>...</td>\n      <td>...</td>\n      <td>...</td>\n      <td>...</td>\n      <td>...</td>\n      <td>...</td>\n      <td>...</td>\n      <td>...</td>\n    </tr>\n    <tr>\n      <th>299</th>\n      <td>68</td>\n      <td>1</td>\n      <td>4</td>\n      <td>144.0</td>\n      <td>193.0</td>\n      <td>1.0</td>\n      <td>0.0</td>\n      <td>141.0</td>\n      <td>0.0</td>\n      <td>3.4</td>\n      <td>2.0</td>\n      <td>2.0</td>\n      <td>2.0</td>\n      <td>0</td>\n      <td>2</td>\n    </tr>\n    <tr>\n      <th>300</th>\n      <td>57</td>\n      <td>1</td>\n      <td>4</td>\n      <td>130.0</td>\n      <td>131.0</td>\n      <td>0.0</td>\n      <td>0.0</td>\n      <td>115.0</td>\n      <td>1.0</td>\n      <td>1.2</td>\n      <td>2.0</td>\n      <td>1.0</td>\n      <td>2.0</td>\n      <td>0</td>\n      <td>3</td>\n    </tr>\n    <tr>\n      <th>301</th>\n      <td>57</td>\n      <td>0</td>\n      <td>2</td>\n      <td>130.0</td>\n      <td>236.0</td>\n      <td>0.0</td>\n      <td>2.0</td>\n      <td>174.0</td>\n      <td>0.0</td>\n      <td>0.0</td>\n      <td>2.0</td>\n      <td>1.0</td>\n      <td>0.0</td>\n      <td>0</td>\n      <td>1</td>\n    </tr>\n    <tr>\n      <th>508</th>\n      <td>47</td>\n      <td>1</td>\n      <td>4</td>\n      <td>150.0</td>\n      <td>226.0</td>\n      <td>0.0</td>\n      <td>0.0</td>\n      <td>98.0</td>\n      <td>1.0</td>\n      <td>1.5</td>\n      <td>2.0</td>\n      <td>0.0</td>\n      <td>7.0</td>\n      <td>1</td>\n      <td>1</td>\n    </tr>\n    <tr>\n      <th>748</th>\n      <td>56</td>\n      <td>1</td>\n      <td>4</td>\n      <td>120.0</td>\n      <td>100.0</td>\n      <td>0.0</td>\n      <td>0.0</td>\n      <td>120.0</td>\n      <td>1.0</td>\n      <td>1.5</td>\n      <td>2.0</td>\n      <td>0.0</td>\n      <td>7.0</td>\n      <td>3</td>\n      <td>1</td>\n    </tr>\n  </tbody>\n</table>\n<p>299 rows × 15 columns</p>\n</div>"
     },
     "execution_count": 179,
     "metadata": {},
     "output_type": "execute_result"
    }
   ],
   "source": [
    "all_data.dropna()"
   ],
   "metadata": {
    "collapsed": false,
    "pycharm": {
     "name": "#%%\n"
    }
   }
  },
  {
   "cell_type": "markdown",
   "source": [
    "While this might be a safe option, it will drastically reduce our samples to mainly ones from the cleveland data set."
   ],
   "metadata": {
    "collapsed": false,
    "pycharm": {
     "name": "#%% md\n"
    }
   }
  }
 ],
 "metadata": {
  "kernelspec": {
   "display_name": "Python 3",
   "language": "python",
   "name": "python3"
  },
  "language_info": {
   "codemirror_mode": {
    "name": "ipython",
    "version": 2
   },
   "file_extension": ".py",
   "mimetype": "text/x-python",
   "name": "python",
   "nbconvert_exporter": "python",
   "pygments_lexer": "ipython2",
   "version": "2.7.6"
  }
 },
 "nbformat": 4,
 "nbformat_minor": 0
}